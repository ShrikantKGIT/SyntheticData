{
  "nbformat": 4,
  "nbformat_minor": 0,
  "metadata": {
    "colab": {
      "provenance": [],
      "authorship_tag": "ABX9TyPSwk4QB1fP4AuSPeKHCN5w",
      "include_colab_link": true
    },
    "kernelspec": {
      "name": "python3",
      "display_name": "Python 3"
    },
    "language_info": {
      "name": "python"
    }
  },
  "cells": [
    {
      "cell_type": "markdown",
      "metadata": {
        "id": "view-in-github",
        "colab_type": "text"
      },
      "source": [
        "<a href=\"https://colab.research.google.com/github/ShrikantKGIT/SyntheticData/blob/main/faker_trials.ipynb\" target=\"_parent\"><img src=\"https://colab.research.google.com/assets/colab-badge.svg\" alt=\"Open In Colab\"/></a>"
      ]
    },
    {
      "cell_type": "code",
      "execution_count": null,
      "metadata": {
        "id": "7i9-xlwP_ERX"
      },
      "outputs": [],
      "source": [
        "import random\n",
        "from faker import Faker\n",
        "\n",
        "# Initialize faker object (set seed for reproducibility)\n",
        "fake = Faker()\n",
        "\n",
        "# Define number of customers to generate\n",
        "num_customers = 10\n",
        "\n",
        "# Create empty lists to store data\n",
        "customer_names = []\n",
        "customer_emails = []\n",
        "customer_addresses = []\n",
        "\n",
        "# Generate synthetic data for each customer\n",
        "for _ in range(num_customers):\n",
        "  # Generate random name\n",
        "  name = fake.name()\n",
        "  customer_names.append(name)\n",
        "\n",
        "  # Generate random email with name incorporated (optional)\n",
        "  email = f\"{name.lower().replace(' ', '.')}@{fake.internet.domain_name()}\"\n",
        "  customer_emails.append(email)\n",
        "\n",
        "  # Generate random address\n",
        "  address = fake.address()\n",
        "  customer_addresses.append(address)\n",
        "\n",
        "# Print the generated data (modify for further usage)\n",
        "print(\"Customer Names:\")\n",
        "for name in customer_names:\n",
        "  print(name)\n",
        "\n",
        "print(\"\\nCustomer Emails:\")\n",
        "for email in customer_emails:\n",
        "  print(email)\n",
        "\n",
        "print(\"\\nCustomer Addresses:\")\n",
        "for address in customer_addresses:\n",
        "  print(address)\n"
      ]
    }
  ]
}